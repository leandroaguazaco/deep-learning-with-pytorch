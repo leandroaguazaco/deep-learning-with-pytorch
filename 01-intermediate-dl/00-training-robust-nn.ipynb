{
 "cells": [
  {
   "cell_type": "markdown",
   "id": "73ef67f0",
   "metadata": {},
   "source": [
    "# Training Robust Neural Networks"
   ]
  },
  {
   "cell_type": "markdown",
   "id": "b6217991",
   "metadata": {},
   "source": [
    "First chapter from the **DataCamp** [Intermediate Deep Learning with PyTorch](https://campus.datacamp.com/courses/intermediate-deep-learning-with-pytorch) course."
   ]
  },
  {
   "cell_type": "code",
   "execution_count": 25,
   "id": "308008b4",
   "metadata": {},
   "outputs": [],
   "source": [
    "import importlib\n",
    "from torch.utils.data import DataLoader\n",
    "import scripts.dl_custom_classes as dlclasses"
   ]
  },
  {
   "cell_type": "markdown",
   "id": "3c883fc9",
   "metadata": {},
   "source": [
    "## 1 - PyTorch and OOP"
   ]
  },
  {
   "cell_type": "markdown",
   "id": "666987b5",
   "metadata": {},
   "source": [
    "* Object-oriented programming, OOP, is used throughout the PyTorch community to define objects with more flexibility.\n",
    "\n",
    "* OOP to define PyTorch Datasets and models.\n",
    "\n",
    "* In this chapter, we will be working with the water potability dataset storage in the data folder. The task is to classify a water sample as potable or drinkable (1 or 0) based on its chemical characteristics.\n",
    "\n",
    "* Python classes will be store in the scripts folder and later import to the current notebook."
   ]
  },
  {
   "cell_type": "markdown",
   "id": "9daf587b",
   "metadata": {},
   "source": [
    "### 1.1 - Import training data"
   ]
  },
  {
   "cell_type": "code",
   "execution_count": 27,
   "id": "a956d683",
   "metadata": {},
   "outputs": [
    {
     "data": {
      "text/html": [
       "<div><style>\n",
       ".dataframe > thead > tr,\n",
       ".dataframe > tbody > tr {\n",
       "  text-align: right;\n",
       "  white-space: pre-wrap;\n",
       "}\n",
       "</style>\n",
       "<small>shape: (5, 10)</small><table border=\"1\" class=\"dataframe\"><thead><tr><th>ph</th><th>Hardness</th><th>Solids</th><th>Chloramines</th><th>Sulfate</th><th>Conductivity</th><th>Organic_carbon</th><th>Trihalomethanes</th><th>Turbidity</th><th>Potability</th></tr><tr><td>f64</td><td>f64</td><td>f64</td><td>f64</td><td>f64</td><td>f64</td><td>f64</td><td>f64</td><td>f64</td><td>i64</td></tr></thead><tbody><tr><td>0.483566</td><td>0.615597</td><td>0.513964</td><td>0.777394</td><td>0.354601</td><td>0.335319</td><td>0.367332</td><td>0.514102</td><td>0.617313</td><td>1</td></tr><tr><td>0.639608</td><td>0.516021</td><td>0.380558</td><td>0.39019</td><td>0.628308</td><td>0.157487</td><td>0.451506</td><td>0.55865</td><td>0.834925</td><td>0</td></tr><tr><td>0.370117</td><td>0.847246</td><td>0.623556</td><td>0.992911</td><td>0.145461</td><td>0.345829</td><td>0.334781</td><td>0.402932</td><td>0.590146</td><td>1</td></tr><tr><td>0.545159</td><td>0.261747</td><td>0.292037</td><td>0.535522</td><td>0.436155</td><td>0.7136</td><td>0.667406</td><td>0.47188</td><td>0.138483</td><td>0</td></tr><tr><td>0.610883</td><td>0.525235</td><td>0.465619</td><td>0.475133</td><td>0.634338</td><td>0.196409</td><td>0.623423</td><td>0.520589</td><td>0.755856</td><td>0</td></tr></tbody></table></div>"
      ],
      "text/plain": [
       "shape: (5, 10)\n",
       "┌──────────┬──────────┬──────────┬────────────┬───┬────────────┬───────────┬───────────┬───────────┐\n",
       "│ ph       ┆ Hardness ┆ Solids   ┆ Chloramine ┆ … ┆ Organic_ca ┆ Trihalome ┆ Turbidity ┆ Potabilit │\n",
       "│ ---      ┆ ---      ┆ ---      ┆ s          ┆   ┆ rbon       ┆ thanes    ┆ ---       ┆ y         │\n",
       "│ f64      ┆ f64      ┆ f64      ┆ ---        ┆   ┆ ---        ┆ ---       ┆ f64       ┆ ---       │\n",
       "│          ┆          ┆          ┆ f64        ┆   ┆ f64        ┆ f64       ┆           ┆ i64       │\n",
       "╞══════════╪══════════╪══════════╪════════════╪═══╪════════════╪═══════════╪═══════════╪═══════════╡\n",
       "│ 0.483566 ┆ 0.615597 ┆ 0.513964 ┆ 0.777394   ┆ … ┆ 0.367332   ┆ 0.514102  ┆ 0.617313  ┆ 1         │\n",
       "│ 0.639608 ┆ 0.516021 ┆ 0.380558 ┆ 0.39019    ┆ … ┆ 0.451506   ┆ 0.55865   ┆ 0.834925  ┆ 0         │\n",
       "│ 0.370117 ┆ 0.847246 ┆ 0.623556 ┆ 0.992911   ┆ … ┆ 0.334781   ┆ 0.402932  ┆ 0.590146  ┆ 1         │\n",
       "│ 0.545159 ┆ 0.261747 ┆ 0.292037 ┆ 0.535522   ┆ … ┆ 0.667406   ┆ 0.47188   ┆ 0.138483  ┆ 0         │\n",
       "│ 0.610883 ┆ 0.525235 ┆ 0.465619 ┆ 0.475133   ┆ … ┆ 0.623423   ┆ 0.520589  ┆ 0.755856  ┆ 0         │\n",
       "└──────────┴──────────┴──────────┴────────────┴───┴────────────┴───────────┴───────────┴───────────┘"
      ]
     },
     "execution_count": 27,
     "metadata": {},
     "output_type": "execute_result"
    }
   ],
   "source": [
    "importlib.reload(dlclasses) # Reload changes for an external file\n",
    "\n",
    "dataset_train = dlclasses.WaterDataset(\n",
    "    path='/home/devenv/Projects/deep-learning-with-pytorch/01-intermediate-dl/data/water_train.csv'\n",
    ")\n",
    "\n",
    "train_dataloader = DataLoader(\n",
    "    dataset=dataset_train.data,\n",
    "    batch_size=2,\n",
    "    shuffle=True\n",
    ")\n",
    "\n",
    "dataset_train.df.head()"
   ]
  },
  {
   "cell_type": "markdown",
   "id": "bf0babaa",
   "metadata": {},
   "source": [
    "### 1.2 - Optimizers, Training and Evaluation"
   ]
  }
 ],
 "metadata": {
  "kernelspec": {
   "display_name": "deep-learning-with-pytorch",
   "language": "python",
   "name": "python3"
  },
  "language_info": {
   "codemirror_mode": {
    "name": "ipython",
    "version": 3
   },
   "file_extension": ".py",
   "mimetype": "text/x-python",
   "name": "python",
   "nbconvert_exporter": "python",
   "pygments_lexer": "ipython3",
   "version": "3.13.2"
  }
 },
 "nbformat": 4,
 "nbformat_minor": 5
}
