{
 "cells": [
  {
   "cell_type": "markdown",
   "id": "2b5e4bb1",
   "metadata": {},
   "source": [
    "# [Introduction to PyTorch](https://campus.datacamp.com/courses/introduction-to-deep-learning-with-pytorch/introduction-to-pytorch-a-deep-learning-library?ex=4)\n",
    "\n",
    "DataCamp track learning."
   ]
  },
  {
   "cell_type": "markdown",
   "id": "02e36301",
   "metadata": {},
   "source": [
    "## Import libraries"
   ]
  },
  {
   "cell_type": "code",
   "execution_count": 1,
   "id": "fdce466c",
   "metadata": {},
   "outputs": [
    {
     "name": "stderr",
     "output_type": "stream",
     "text": [
      "/home/devenv/Projects/deep-learning-with-pytorch/.venv/lib/python3.13/site-packages/torch/_subclasses/functional_tensor.py:279: UserWarning: Failed to initialize NumPy: No module named 'numpy' (Triggered internally at /pytorch/torch/csrc/utils/tensor_numpy.cpp:81.)\n",
      "  cpu = _conversion_method_template(device=torch.device(\"cpu\"))\n"
     ]
    }
   ],
   "source": [
    "import torch"
   ]
  },
  {
   "cell_type": "markdown",
   "id": "e1675546",
   "metadata": {},
   "source": [
    "## 1 - Tensors"
   ]
  },
  {
   "cell_type": "markdown",
   "id": "173d57f6",
   "metadata": {},
   "source": [
    "* Tensor: similar to array or matrix.\n",
    "* Two tensors are compatilbe if they have the shame shape, exactly dimensions."
   ]
  },
  {
   "cell_type": "code",
   "execution_count": 2,
   "id": "d4c9a054",
   "metadata": {},
   "outputs": [
    {
     "name": "stdout",
     "output_type": "stream",
     "text": [
      "tensor([[1, 2, 3],\n",
      "        [4, 5, 6]])\n",
      "torch.Size([2, 3])\n",
      "torch.int64\n"
     ]
    }
   ],
   "source": [
    "my_list = [[1, 2, 3], [4, 5, 6]]\n",
    "tensor = torch.tensor(my_list)\n",
    "\n",
    "# Tensor attributes\n",
    "print(tensor)\n",
    "print(tensor.shape)\n",
    "print(tensor.dtype)"
   ]
  },
  {
   "cell_type": "code",
   "execution_count": 3,
   "id": "4384fbd9",
   "metadata": {},
   "outputs": [
    {
     "name": "stdout",
     "output_type": "stream",
     "text": [
      "Tensor two dimentions: torch.Size([2, 3])\n",
      "Tensor three dimensions: torch.Size([3])\n"
     ]
    }
   ],
   "source": [
    "tensor_two = torch.tensor(\n",
    "    [[7, 8, 9], [10, 11, 11]]\n",
    ")\n",
    "print(f'Tensor two dimentions: {tensor_two.shape}')\n",
    "\n",
    "tensor_three = torch.tensor(\n",
    "    [1, 2, 3]\n",
    ")\n",
    "print(f'Tensor three dimensions: {tensor_three.shape}')"
   ]
  },
  {
   "cell_type": "code",
   "execution_count": null,
   "id": "e88248b7",
   "metadata": {},
   "outputs": [
    {
     "name": "stdout",
     "output_type": "stream",
     "text": [
      "tensor([[ 8, 10, 12],\n",
      "        [14, 16, 17]])\n",
      "tensor([[0.1429, 0.2500, 0.3333],\n",
      "        [0.4000, 0.4545, 0.5455]])\n",
      "tensor([[ 7, 16, 27],\n",
      "        [40, 55, 66]])\n",
      "tensor([14, 32])\n",
      "torch.Size([2])\n"
     ]
    }
   ],
   "source": [
    "# Tensor operations\n",
    "\n",
    "print(tensor + tensor_two)\n",
    "print(tensor / tensor_two)\n",
    "print(tensor * tensor_two) # Elementwise multiplication\n",
    "\n",
    "tensor_four = tensor @ tensor_three\n",
    "print(tensor_four)\n",
    "print(tensor_four.shape) # Matrix multiplication"
   ]
  },
  {
   "cell_type": "markdown",
   "id": "3f86951c",
   "metadata": {},
   "source": [
    "## 2 - Neural Networks and Layers"
   ]
  },
  {
   "cell_type": "markdown",
   "id": "db21a3e3",
   "metadata": {},
   "source": [
    "A neural network consists of input, hidden and output layers.\n",
    "\n",
    "* Input layer: features in our dataset.\n",
    "* Output layer: classes to predict.\n",
    "* Hidden layers: layers between input and output layers."
   ]
  },
  {
   "cell_type": "code",
   "execution_count": 17,
   "id": "4ef5302e",
   "metadata": {},
   "outputs": [
    {
     "name": "stdout",
     "output_type": "stream",
     "text": [
      "tensor([[0.2701, 0.4470]], grad_fn=<AddmmBackward0>)\n",
      "Parameter containing:\n",
      "tensor([[-0.2134, -0.0175,  0.4212],\n",
      "        [ 0.2784,  0.5042, -0.1166]], requires_grad=True)\n",
      "Parameter containing:\n",
      "tensor([0.4513, 0.0936], requires_grad=True)\n"
     ]
    }
   ],
   "source": [
    "# Fully connected network = Linear model\n",
    "\n",
    "import torch.nn as nn\n",
    "\n",
    "# Input tensor: 1 x 3, 3 features\n",
    "input_tensor = torch.tensor(\n",
    "    [[0.3471, 0.4547, -0.2356]]\n",
    ")\n",
    "\n",
    "# Linear layer: y0 = w0*X + b0\n",
    "# w0 = weights\n",
    "# X = features\n",
    "# b0 = bias\n",
    "linear_layer = nn.Linear(\n",
    "    in_features=3,\n",
    "    out_features=2\n",
    ")\n",
    "\n",
    "# Pass input tensor through liner layer\n",
    "output = linear_layer(input_tensor)\n",
    "print(output)\n",
    "\n",
    "# Each linear layer has a set of weights and biases:\n",
    "print(linear_layer.weight)\n",
    "print(linear_layer.bias)"
   ]
  },
  {
   "cell_type": "markdown",
   "id": "ac88710d",
   "metadata": {},
   "source": [
    "What is the role of weights in a neural network?\n",
    "\n",
    "Weights determine how much influence each input has on the neurons's output."
   ]
  },
  {
   "cell_type": "markdown",
   "id": "38b88e58",
   "metadata": {},
   "source": [
    "### 2.1 - Hidden Layer and Parameters"
   ]
  },
  {
   "cell_type": "markdown",
   "id": "94698d78",
   "metadata": {},
   "source": [
    "Add hidden linear layers to the original model."
   ]
  },
  {
   "cell_type": "code",
   "execution_count": 16,
   "id": "3fd26fe7",
   "metadata": {},
   "outputs": [],
   "source": [
    "n_features = 3 # inputs\n",
    "n_classes = 2 # outputs\n",
    "\n",
    "model = nn.Sequential(\n",
    "    nn.Linear(n_features, 8),\n",
    "    nn.Linear(8, 4),\n",
    "    nn.Linear(4, n_classes)\n",
    ")"
   ]
  },
  {
   "cell_type": "markdown",
   "id": "80a6e689",
   "metadata": {},
   "source": [
    "* Fully connected when each neuron links to all neuron in the previous layer.\n",
    "\n",
    "* A neuron in a linear layer:\n",
    "    - Perform a linear operation using all neurons from the previous layers.\n",
    "    - Has n + 1 parameters: n from inputs and 1 for the bias.\n",
    "\n",
    "* More hidden layers = more paramenters = higher model capacity or number of parameters in the model.\n",
    "\n",
    "* Model capacity from avobe example:\n",
    "    - Hidden layer one: 3 inputs, 8 neurons then 8 * (3 + 1) =  32\n",
    "    - Hidden layer two: 8 inptus, 4 neurons then 4 * (8 + 1) = 36\n",
    "    - Output layer: 4 inputs, 2 neurons then 2 * (4 + 1) = 10\n",
    "    - Total parameters: 32 + 36 + 10 = 78"
   ]
  },
  {
   "cell_type": "code",
   "execution_count": 15,
   "id": "6d1489d8",
   "metadata": {},
   "outputs": [
    {
     "name": "stdout",
     "output_type": "stream",
     "text": [
      "Model capacity = 78\n"
     ]
    }
   ],
   "source": [
    "total = 0\n",
    "for parameter in model.parameters():\n",
    "    total += parameter.numel()\n",
    "print(f'Model capacity = {total}')"
   ]
  },
  {
   "cell_type": "markdown",
   "id": "b5dfd191",
   "metadata": {},
   "source": [
    "Balancing complexity and efficiency\n",
    "\n",
    "Too many parameters can leadd to long training times or overfitting, while too few might limit learning capacity."
   ]
  },
  {
   "cell_type": "code",
   "execution_count": 18,
   "id": "8000a02f",
   "metadata": {},
   "outputs": [
    {
     "name": "stdout",
     "output_type": "stream",
     "text": [
      "tensor([[-0.2304, -0.0628]], grad_fn=<AddmmBackward0>)\n"
     ]
    }
   ],
   "source": [
    "output = model(input_tensor)\n",
    "print(output)"
   ]
  }
 ],
 "metadata": {
  "kernelspec": {
   "display_name": "deep-learning-with-pytorch",
   "language": "python",
   "name": "python3"
  },
  "language_info": {
   "codemirror_mode": {
    "name": "ipython",
    "version": 3
   },
   "file_extension": ".py",
   "mimetype": "text/x-python",
   "name": "python",
   "nbconvert_exporter": "python",
   "pygments_lexer": "ipython3",
   "version": "3.13.2"
  }
 },
 "nbformat": 4,
 "nbformat_minor": 5
}
