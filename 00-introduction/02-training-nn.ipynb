{
 "cells": [
  {
   "cell_type": "markdown",
   "id": "2692f3c5",
   "metadata": {},
   "source": [
    "# [Training a Neural Network with PyTorch](https://campus.datacamp.com/courses/introduction-to-deep-learning-with-pytorch/training-a-neural-network-with-pytorch?ex=1)\n",
    "\n",
    "Third chapter in the Introduction to Deep Learning with PyTorch DataCamp course."
   ]
  },
  {
   "cell_type": "markdown",
   "id": "05716dd4",
   "metadata": {},
   "source": [
    "## 1 - A Deeper Dive Into Loading Data"
   ]
  },
  {
   "cell_type": "markdown",
   "id": "30c7e65a",
   "metadata": {},
   "source": [
    "Use  `TensorDataset` to prepare data for PyTorch models, storign features (X) and labels (y) as tensors, making them esay to manage."
   ]
  },
  {
   "cell_type": "code",
   "execution_count": 1,
   "id": "464aac87",
   "metadata": {},
   "outputs": [
    {
     "name": "stdout",
     "output_type": "stream",
     "text": [
      "[[ 0.5  3.4  6.7]\n",
      " [ 1.2  5.   7.3]\n",
      " [34.2 44.  12.3]\n",
      " [ 0.4  6.7  2.2]] \n",
      "\n",
      "[0 0 1 0]\n"
     ]
    }
   ],
   "source": [
    "import torch\n",
    "from torch.utils.data import TensorDataset\n",
    "import numpy as np\n",
    "\n",
    "# Features: 4 x 3 matrix\n",
    "# Four individuals, and 3 features\n",
    "inputs = np.array([\n",
    "    [0.5, 3.4, 6.7],\n",
    "    [1.2, 5.0, 7.3],\n",
    "    [34.2, 44.0, 12.3],\n",
    "    [0.4, 6.7, 2.2]\n",
    "])\n",
    "print(inputs, '\\n')\n",
    "\n",
    "# Labels: 4 x 1 matrix\n",
    "# 0 = specie one\n",
    "# 1 = specie two\n",
    "labels = np.array([\n",
    "    0, 0, 1, 0\n",
    "])\n",
    "print(labels)"
   ]
  },
  {
   "cell_type": "code",
   "execution_count": 2,
   "id": "28f68bc9",
   "metadata": {},
   "outputs": [
    {
     "name": "stdout",
     "output_type": "stream",
     "text": [
      "\n",
      "    Input sample: tensor([0.5000, 3.4000, 6.7000], dtype=torch.float64) \n",
      "\n",
      "    Label sample: 0\n",
      "\n"
     ]
    }
   ],
   "source": [
    "# Instantiate dataset class\n",
    "dataset = TensorDataset(\n",
    "    torch.tensor(inputs),\n",
    "    torch.tensor(labels)\n",
    ")\n",
    "\n",
    "# Access an individual sample: square bracket indexing:\n",
    "input_sample, label_sample = dataset[0]\n",
    "print(f\"\"\"\n",
    "    Input sample: {input_sample} \\n\n",
    "    Label sample: {label_sample}\n",
    "\"\"\"\n",
    ")"
   ]
  },
  {
   "cell_type": "markdown",
   "id": "b4b43673",
   "metadata": {},
   "source": [
    "* After to create the dataset using `TensorDataset` function, use the `DataLoader` function to manage data loading during training.\n",
    "\n",
    "* Since deep learning models require large datasets, batching helps process multiple samples at once, making training more efficient.\n",
    "\n",
    "* Shuffle randomizes the data order at each epoch, hepling improve model generalization.\n",
    "\n",
    "* **Epoch**: one full pass through the traning dataloader."
   ]
  },
  {
   "cell_type": "code",
   "execution_count": 3,
   "id": "159ee46b",
   "metadata": {},
   "outputs": [
    {
     "name": "stdout",
     "output_type": "stream",
     "text": [
      "Batch inputs: \n",
      " tensor([[ 0.4000,  6.7000,  2.2000],\n",
      "        [34.2000, 44.0000, 12.3000]], dtype=torch.float64)\n",
      "Batch labels: \n",
      " tensor([0, 1]) \n",
      "\n",
      "Batch inputs: \n",
      " tensor([[1.2000, 5.0000, 7.3000],\n",
      "        [0.5000, 3.4000, 6.7000]], dtype=torch.float64)\n",
      "Batch labels: \n",
      " tensor([0, 0]) \n",
      "\n"
     ]
    }
   ],
   "source": [
    "from torch.utils.data import DataLoader\n",
    "\n",
    "# Define batch size\n",
    "# Determines how many samples are included in each iteration.\n",
    "batch_size = 2\n",
    "\n",
    "# Define shuffle:\n",
    "# Randomize the data order at each epoch\n",
    "shuffle = True\n",
    "\n",
    "# Create a DataLoader:\n",
    "# Easy to iterate through the dataset in batches\n",
    "dataloader = DataLoader(\n",
    "    dataset=dataset,\n",
    "    batch_size=batch_size,\n",
    "    shuffle=True\n",
    ")\n",
    "\n",
    "# Iterate over the dataloader\n",
    "for batch_inputs, batch_labels in dataloader:\n",
    "    print('Batch inputs: \\n', batch_inputs)\n",
    "    print('Batch labels: \\n', batch_labels, '\\n')"
   ]
  },
  {
   "cell_type": "markdown",
   "id": "eda2ca3d",
   "metadata": {},
   "source": [
    "* In real world deep learning, datasets are much larger, with batch sizes of typically 32 or more for better computational efficiency.\n",
    "\n",
    "* The `DataLoader` class is essential for efficiently handling large datasets. It speeds up training, optimizes memory usage and stabilizes gradient updates, making deep learnig models more effective."
   ]
  },
  {
   "cell_type": "markdown",
   "id": "b85ac4ae",
   "metadata": {},
   "source": [
    "## 2 - Writing a First Training Loop "
   ]
  },
  {
   "cell_type": "markdown",
   "id": "b0b54b8a",
   "metadata": {},
   "source": [
    "Training a neural network requires:\n",
    "- 1. Create a model\n",
    "- 2. Choose a loss function\n",
    "- 3. Define a dataset\n",
    "- 4. Set an optimizer\n",
    "- 5. Run a training loop\n",
    "    - 5.1. Calculate loss (forward pass)\n",
    "    - 5.2. Compute gradients (backpropagation)\n",
    "    - 5.3. Update model parameters"
   ]
  },
  {
   "cell_type": "markdown",
   "id": "a9b54727",
   "metadata": {},
   "source": [
    "### 2.1 - Binary Classification Example"
   ]
  },
  {
   "cell_type": "code",
   "execution_count": 4,
   "id": "fe36b606",
   "metadata": {},
   "outputs": [],
   "source": [
    "import torch.nn as nn\n",
    "from torch.nn import CrossEntropyLoss\n",
    "from torch.utils.data import TensorDataset, DataLoader\n",
    "import torch.optim as optim\n",
    "\n",
    "# 0) Inputs and labels\n",
    "inputs = np.array([\n",
    "    [0.5, 3.4, 6.7],\n",
    "    [1.2, 5.0, 7.3],\n",
    "    [34.2, 44.0, 12.3],\n",
    "    [0.4, 6.7, 2.2]\n",
    "])\n",
    "\n",
    "# 0 = specie one\n",
    "# 1 = specie two\n",
    "labels = np.array([\n",
    "    0, 0, 1, 0\n",
    "])\n",
    "\n",
    "# 1) Create a model\n",
    "model = nn.Sequential(\n",
    "    nn.Linear(3, 5),\n",
    "    nn.Linear(5, 5),\n",
    "    nn.Linear(5, 2)\n",
    ")\n",
    "\n",
    "# 2) Choose a loss function\n",
    "criterion = CrossEntropyLoss()\n",
    "\n",
    "# 3) Define a dataset\n",
    "dataset = TensorDataset(\n",
    "    torch.tensor(inputs).float(),\n",
    "    torch.tensor(labels).long()\n",
    ")\n",
    "\n",
    "dataloader = DataLoader(\n",
    "    dataset=dataset,\n",
    "    batch_size=2,\n",
    "    shuffle=True\n",
    ")\n",
    "\n",
    "# 4) Set an optimizer\n",
    "optimizer = optim.SGD(model.parameters(), lr=0.001)"
   ]
  },
  {
   "cell_type": "markdown",
   "id": "f77cc8b2",
   "metadata": {},
   "source": [
    "Looping through the entire dataset once is called an epoch and we train over multiple epoch (num_epochs parameter)"
   ]
  },
  {
   "cell_type": "code",
   "execution_count": 5,
   "id": "0a58b75f",
   "metadata": {},
   "outputs": [],
   "source": [
    "# 5) Training loop\n",
    "num_epochs = 5\n",
    "\n",
    "for epoch in range(num_epochs): # For each epoch, we loop throug the dataloader\n",
    "    \n",
    "    for data in dataloader: # Each iteration of the dataloader provides a batch of samples\n",
    "        \n",
    "        # Set the gradients to zero because the optimizer stores gradientes from previous steps by default\n",
    "        optimizer.zero_grad()\n",
    "\n",
    "        # Get feature an targe from the dataloader\n",
    "        feature, target = data\n",
    "\n",
    "        # Run a forward pass\n",
    "        pred = model(feature)\n",
    "\n",
    "        # Compute loss and gradients\n",
    "        loss = criterion(pred, target)\n",
    "        loss.backward()\n",
    "\n",
    "        # Update the parameters\n",
    "        optimizer.step()"
   ]
  },
  {
   "cell_type": "markdown",
   "id": "df829364",
   "metadata": {},
   "source": [
    "### 2.2 - Regression Example"
   ]
  },
  {
   "cell_type": "code",
   "execution_count": 6,
   "id": "8de8a526",
   "metadata": {},
   "outputs": [
    {
     "name": "stdout",
     "output_type": "stream",
     "text": [
      "Epoch: 0\n",
      "tensor([[-2.8044],\n",
      "        [-2.1518]], grad_fn=<AddmmBackward0>) torch.Size([2, 1])\n",
      "tensor([4.5000, 1.3000]) torch.Size([2])\n",
      "tensor(32.6348, grad_fn=<MseLossBackward0>) \n",
      "\n",
      "tensor([[-13.4954],\n",
      "        [ -1.8164]], grad_fn=<AddmmBackward0>) torch.Size([2, 1])\n",
      "tensor([3.4000, 2.2000]) torch.Size([2])\n",
      "tensor(150.7938, grad_fn=<MseLossBackward0>) \n",
      "\n",
      "Epoch: 1\n",
      "tensor([[4.8996],\n",
      "        [5.0003]], grad_fn=<AddmmBackward0>) torch.Size([2, 1])\n",
      "tensor([2.2000, 4.5000]) torch.Size([2])\n",
      "tensor(3.7690, grad_fn=<MseLossBackward0>) \n",
      "\n",
      "tensor([[ 3.1106],\n",
      "        [54.3389]], grad_fn=<AddmmBackward0>) torch.Size([2, 1])\n",
      "tensor([1.3000, 3.4000]) torch.Size([2])\n",
      "tensor(1299.0267, grad_fn=<MseLossBackward0>) \n",
      "\n",
      "Epoch: 2\n",
      "tensor([[ 23.6928],\n",
      "        [199.1276]], grad_fn=<AddmmBackward0>) torch.Size([2, 1])\n",
      "tensor([4.5000, 3.4000]) torch.Size([2])\n",
      "tensor(19338.8262, grad_fn=<MseLossBackward0>) \n",
      "\n",
      "tensor([[1626.6077],\n",
      "        [2172.0486]], grad_fn=<AddmmBackward0>) torch.Size([2, 1])\n",
      "tensor([1.3000, 2.2000]) torch.Size([2])\n",
      "tensor(3674934., grad_fn=<MseLossBackward0>) \n",
      "\n",
      "Epoch: 3\n",
      "tensor([[1498427.1250],\n",
      "        [7543680.0000]], grad_fn=<AddmmBackward0>) torch.Size([2, 1])\n",
      "tensor([4.5000, 3.4000]) torch.Size([2])\n",
      "tensor(2.9576e+13, grad_fn=<MseLossBackward0>) \n",
      "\n",
      "tensor([[1.1759e+17],\n",
      "        [1.5470e+17]], grad_fn=<AddmmBackward0>) torch.Size([2, 1])\n",
      "tensor([1.3000, 2.2000]) torch.Size([2])\n",
      "tensor(1.8879e+34, grad_fn=<MseLossBackward0>) \n",
      "\n",
      "Epoch: 4\n",
      "tensor([[inf],\n",
      "        [inf]], grad_fn=<AddmmBackward0>) torch.Size([2, 1])\n",
      "tensor([2.2000, 1.3000]) torch.Size([2])\n",
      "tensor(inf, grad_fn=<MseLossBackward0>) \n",
      "\n",
      "tensor([[nan],\n",
      "        [nan]], grad_fn=<AddmmBackward0>) torch.Size([2, 1])\n",
      "tensor([4.5000, 3.4000]) torch.Size([2])\n",
      "tensor(nan, grad_fn=<MseLossBackward0>) \n",
      "\n"
     ]
    }
   ],
   "source": [
    "import torch.nn as nn\n",
    "from torch.nn import MSELoss\n",
    "from torch.utils.data import TensorDataset, DataLoader\n",
    "import torch.optim as optim\n",
    "\n",
    "# Inputs\n",
    "reg_inputs = np.array([\n",
    "    [0.5, 3.4, 6.7],\n",
    "    [1.2, 5.0, 7.3],\n",
    "    [34.2, 44.0, 12.3],\n",
    "    [0.4, 6.7, 2.2]\n",
    "])\n",
    "\n",
    "# Labels\n",
    "reg_labels = np.array([1.3, 4.5, 3.4, 2.2])\n",
    "\n",
    "# 1) Create a model\n",
    "model = nn.Sequential(\n",
    "    nn.Linear(3, 5),\n",
    "    nn.Linear(5, 1),\n",
    ")\n",
    "\n",
    "# 2) Choose a loss function\n",
    "criterion = MSELoss()\n",
    "\n",
    "# 3) Define a dataset\n",
    "dataset = TensorDataset(\n",
    "    torch.tensor(reg_inputs).float(),\n",
    "    torch.tensor(reg_labels).float()\n",
    ")\n",
    "\n",
    "dataloader = DataLoader(\n",
    "    dataset=dataset,\n",
    "    batch_size=2,\n",
    "    shuffle=True\n",
    ")\n",
    "\n",
    "# 4) Set an optimizer\n",
    "optimizer = optim.SGD(model.parameters(), lr=0.001)\n",
    "\n",
    "# 5) Training loop\n",
    "num_epochs = 5\n",
    "\n",
    "for epoch in range(num_epochs): # For each epoch, we loop throug the dataloader\n",
    "    print(f'Epoch: {epoch}')\n",
    "\n",
    "    for data in dataloader: # Each iteration of the dataloader provides a batch of samples\n",
    "        # Set the gradients to zero because the optimizer stores gradientes from previous steps by default\n",
    "        optimizer.zero_grad()\n",
    "\n",
    "        # Get feature an targe from the dataloader\n",
    "        feature, target = data\n",
    "\n",
    "        # Run a forward pass\n",
    "        pred = model(feature)\n",
    "        print(pred, pred.shape)\n",
    "        print(target, target.shape)\n",
    "\n",
    "        # Compute loss and gradients\n",
    "        loss = criterion(pred, target.unsqueeze(1))\n",
    "        print(loss, '\\n')\n",
    "        loss.backward()\n",
    "\n",
    "        # Update the parameters\n",
    "        optimizer.step()"
   ]
  },
  {
   "cell_type": "markdown",
   "id": "7f6f0bd4",
   "metadata": {},
   "source": [
    "## 3 - ReLU Activation Functions"
   ]
  },
  {
   "cell_type": "markdown",
   "id": "68bdb175",
   "metadata": {},
   "source": [
    "* Activation functions introduce non-linearity to helps neural networks learn complex patterns.\n",
    "\n",
    "* Sigmoid and Softmax activation functions limit outputs between 0 and 1. \n",
    "\n",
    "* While the Sigmoid can technically be used anywhere in a network, Softmax is typically reserved for the final output layer in a multi-class classification task.\n",
    "\n",
    "* In Sigmoid and Softmax the gradients are very small for large positive and negative input values ($x$), which causes the activation to **saturate**. When these gradients are extremely small, they fail to update the network's weights effectively. This issue is known as the **vanishing gradients problem**, which makes the training process very difficult.\n",
    "\n",
    "* **ReLU**: Rectified Linear Unit, $f(x) = max(x, 0)$\n",
    "\n",
    "* **Leaky ReLU**: Variation of ReLu wher negatives inputs are scaled by a small coefficient (default 0.001 in PyTorch)."
   ]
  },
  {
   "cell_type": "code",
   "execution_count": 13,
   "id": "1148ab7c",
   "metadata": {},
   "outputs": [
    {
     "name": "stdout",
     "output_type": "stream",
     "text": [
      "tensor([-0.1500])\n"
     ]
    }
   ],
   "source": [
    "relu = nn.ReLU()\n",
    "leakyrelu = nn.LeakyReLU(negative_slope=0.05)\n",
    "print(leakyrelu(torch.tensor([-3.0])))"
   ]
  },
  {
   "cell_type": "markdown",
   "id": "3e018835",
   "metadata": {},
   "source": [
    "## 4 -  Learning Rate and Momemtum"
   ]
  },
  {
   "cell_type": "markdown",
   "id": "23035380",
   "metadata": {},
   "source": [
    "* Training a neural network = solving an optimization problem, e.i. by minimizing the loss function and adjusting model parameters\n",
    "\n",
    "* Stochastic Gradient Descent (SGD) optimizer."
   ]
  },
  {
   "attachments": {
    "image.png": {
     "image/png": "[encoded data removed]"
    }
   },
   "cell_type": "markdown",
   "id": "fa735d8f",
   "metadata": {},
   "source": [
    "![image.png](attachment:image.png)"
   ]
  },
  {
   "cell_type": "markdown",
   "id": "768549d9",
   "metadata": {},
   "source": [
    "* Momentum and learning rate are critical to the training of your neural network. A good rule of thumb is to start with a learning rate of 0.001 and a momentum of 0.95."
   ]
  }
 ],
 "metadata": {
  "kernelspec": {
   "display_name": "deep-learning-with-pytorch",
   "language": "python",
   "name": "python3"
  },
  "language_info": {
   "codemirror_mode": {
    "name": "ipython",
    "version": 3
   },
   "file_extension": ".py",
   "mimetype": "text/x-python",
   "name": "python",
   "nbconvert_exporter": "python",
   "pygments_lexer": "ipython3",
   "version": "3.13.2"
  }
 },
 "nbformat": 4,
 "nbformat_minor": 5
}
